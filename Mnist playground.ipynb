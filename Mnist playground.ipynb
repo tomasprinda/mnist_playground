{
 "cells": [
  {
   "cell_type": "code",
   "execution_count": 1,
   "metadata": {
    "collapsed": false
   },
   "outputs": [],
   "source": [
    "%matplotlib inline\n",
    "\n",
    "from collections import Counter\n",
    "import numpy as np\n",
    "import matplotlib.pyplot as plt\n",
    "import struct\n",
    "import random\n",
    "import tensorflow as tf\n",
    "from IPython.display import Markdown, display\n",
    "from sklearn import metrics\n",
    "from sklearn.manifold import TSNE\n",
    "import os"
   ]
  },
  {
   "cell_type": "markdown",
   "metadata": {},
   "source": [
    "# Utils "
   ]
  },
  {
   "cell_type": "code",
   "execution_count": 2,
   "metadata": {
    "collapsed": false
   },
   "outputs": [],
   "source": [
    "def make_sure_path_exists(path):\n",
    "    try:\n",
    "        os.makedirs(os.path.dirname(path))\n",
    "    except OSError as exception:\n",
    "        if exception.errno != errno.EEXIST:\n",
    "            raise\n",
    "        \n",
    "def plot_images(images, ncols=None):\n",
    "    ncols = ncols if ncols else len(images)\n",
    "    images =  np.array(images) \n",
    "    nindex, height, width = images.shape\n",
    "    nrows = nindex//ncols\n",
    "    assert nindex == nrows*ncols\n",
    "    # want result.shape = (height*nrows, width*ncols, intensity)\n",
    "    result = (images.reshape(nrows, ncols, height, width)\n",
    "              .swapaxes(1,2)\n",
    "              .reshape(height*nrows, width*ncols))\n",
    "    fig = plt.gcf()\n",
    "    fig.set_size_inches(18.5, 10.5)\n",
    "    plt.imshow(result,  cmap='gray')\n",
    "    plt.axis('off')\n",
    "    plt.show()\n",
    "    plt.clf()\n",
    "    \n",
    "def error_rate(predictions, labels):\n",
    "    return (100.0 * np.sum(predictions != labels)/ len(predictions))\n",
    "\n",
    "def get_incorrect_predictions(predictions, labels):\n",
    "    return [i for i, (pred, lab) in enumerate(zip(predictions, labels)) if pred != lab]\n",
    "\n",
    "def get_predictions(prob):\n",
    "    return np.argmax(prob, 1)\n",
    "\n",
    "def printmd(string):\n",
    "    display(Markdown(string))\n",
    "\n",
    "# Got from https://gist.github.com/akesling/5358964\n",
    "def read_mnist(dataset, path = \".\"):\n",
    "    \"\"\"\n",
    "    Python function for importing the MNIST data set.  It returns an iterator\n",
    "    of 2-tuples with the first element being the label and the second element\n",
    "    being a numpy.uint8 2D array of pixel data for the given image.\n",
    "    \"\"\"\n",
    "\n",
    "    if dataset is \"training\":\n",
    "        fname_img = os.path.join(path, 'train-images.idx3-ubyte')\n",
    "        fname_lbl = os.path.join(path, 'train-labels.idx1-ubyte')\n",
    "    elif dataset is \"testing\":\n",
    "        fname_img = os.path.join(path, 't10k-images.idx3-ubyte')\n",
    "        fname_lbl = os.path.join(path, 't10k-labels.idx1-ubyte')\n",
    "    else:\n",
    "        raise ValueError( \"dataset must be 'testing' or 'training'\")\n",
    "\n",
    "    # Load everything in some numpy arrays\n",
    "    with open(fname_lbl, 'rb') as flbl:\n",
    "        magic, num = struct.unpack(\">II\", flbl.read(8))\n",
    "        lbl = np.fromfile(flbl, dtype=np.int8)\n",
    "\n",
    "    with open(fname_img, 'rb') as fimg:\n",
    "        magic, num, rows, cols = struct.unpack(\">IIII\", fimg.read(16))\n",
    "        img = np.fromfile(fimg, dtype=np.uint8).reshape(len(lbl), rows, cols)\n",
    "\n",
    "    get_img = lambda idx: (lbl[idx], img[idx])\n",
    "\n",
    "    # Create an iterator which returns each image in turn\n",
    "    for i in range(len(lbl)):\n",
    "        yield get_img(i)"
   ]
  },
  {
   "cell_type": "markdown",
   "metadata": {},
   "source": [
    "# Load data \n",
    "It is not a lot, it fits in memory\n",
    "\n",
    "Split trainset to trainset, validset. Otherwise it would be cheating\n"
   ]
  },
  {
   "cell_type": "code",
   "execution_count": 3,
   "metadata": {
    "collapsed": false
   },
   "outputs": [
    {
     "name": "stdout",
     "output_type": "stream",
     "text": [
      "Loaded 50000 trainset images\n",
      "Loaded 10000 validset images\n",
      "Loaded 10000 testset images\n"
     ]
    }
   ],
   "source": [
    "validset_size = 10000\n",
    "\n",
    "trainset = list(read_mnist(\"training\", \"data\")) \n",
    "testset = list(read_mnist(\"testing\", \"data\"))\n",
    "validset, trainset = trainset[:validset_size], trainset[validset_size:]\n",
    " \n",
    "print(\"Loaded {} trainset images\".format(len(trainset)))\n",
    "print(\"Loaded {} validset images\".format(len(validset)))\n",
    "print(\"Loaded {} testset images\".format(len(testset)))"
   ]
  },
  {
   "cell_type": "code",
   "execution_count": 4,
   "metadata": {
    "collapsed": false
   },
   "outputs": [
    {
     "name": "stdout",
     "output_type": "stream",
     "text": [
      "Trainset (3, 8, 7, 9, 9, 0, 1, 1, 5, 2, 0, 3, 8, 4, 7)\n"
     ]
    },
    {
     "data": {
      "image/png": "[encoded data removed]",
      "text/plain": [
       "<matplotlib.figure.Figure at 0x7f027ae620f0>"
      ]
     },
     "metadata": {},
     "output_type": "display_data"
    },
    {
     "name": "stdout",
     "output_type": "stream",
     "text": [
      "Validset (5, 0, 4, 1, 9, 2, 1, 3, 1, 4, 3, 5, 3, 6, 1)\n"
     ]
    },
    {
     "data": {
      "image/png": "[encoded data removed]",
      "text/plain": [
       "<matplotlib.figure.Figure at 0x7f0276607a58>"
      ]
     },
     "metadata": {},
     "output_type": "display_data"
    },
    {
     "name": "stdout",
     "output_type": "stream",
     "text": [
      "Testset (7, 2, 1, 0, 4, 1, 4, 9, 5, 9, 0, 6, 9, 0, 1)\n"
     ]
    },
    {
     "data": {
      "image/png": "[encoded data removed]",
      "text/plain": [
       "<matplotlib.figure.Figure at 0x7f026ed7c1d0>"
      ]
     },
     "metadata": {},
     "output_type": "display_data"
    },
    {
     "data": {
      "text/plain": [
       "<matplotlib.figure.Figure at 0x7f026eda6278>"
      ]
     },
     "metadata": {},
     "output_type": "display_data"
    }
   ],
   "source": [
    "labels, images = zip(*trainset[:15])\n",
    "print(\"Trainset\", labels)\n",
    "plot_images(images)\n",
    "\n",
    "labels, images = zip(*validset[:15])\n",
    "print(\"Validset\", labels)\n",
    "plot_images(images)\n",
    "\n",
    "labels, images = zip(*testset[:15])\n",
    "print(\"Testset\", labels)\n",
    "plot_images(images)"
   ]
  },
  {
   "cell_type": "markdown",
   "metadata": {},
   "source": [
    "# Some stats"
   ]
  },
  {
   "cell_type": "code",
   "execution_count": 5,
   "metadata": {
    "collapsed": false
   },
   "outputs": [
    {
     "name": "stdout",
     "output_type": "stream",
     "text": [
      "Trainset distribution Counter({1: 5615, 7: 5195, 3: 5099, 9: 4971, 2: 4967, 0: 4922, 8: 4907, 6: 4904, 4: 4862, 5: 4558})\n",
      "Validset distribution Counter({1: 1127, 7: 1070, 3: 1032, 6: 1014, 0: 1001, 2: 991, 4: 980, 9: 978, 8: 944, 5: 863})\n",
      "Testset distribution Counter({1: 1135, 2: 1032, 7: 1028, 3: 1010, 9: 1009, 4: 982, 0: 980, 8: 974, 6: 958, 5: 892})\n",
      "Shape: 28 28\n",
      "Label values [0, 1, 2, 3, 4, 5, 6, 7, 8, 9]\n"
     ]
    }
   ],
   "source": [
    "label_distribution = Counter([example[0] for example in trainset])\n",
    "print(\"Trainset distribution\", label_distribution)\n",
    "\n",
    "label_distribution = Counter([example[0] for example in validset])\n",
    "print(\"Validset distribution\", label_distribution)\n",
    "\n",
    "label_distribution = Counter([example[0] for example in testset])\n",
    "print(\"Testset distribution\", label_distribution)\n",
    "\n",
    "image_width, image_height = np.array(trainset[0][1]).shape\n",
    "print(\"Shape:\", image_width, image_height)\n",
    "\n",
    "label_values = sorted(list(label_distribution.keys()))\n",
    "print(\"Label values\", label_values)"
   ]
  },
  {
   "cell_type": "markdown",
   "metadata": {},
   "source": [
    "Almost equally distributed => OK"
   ]
  },
  {
   "cell_type": "markdown",
   "metadata": {},
   "source": [
    "# Preprocess"
   ]
  },
  {
   "cell_type": "code",
   "execution_count": 6,
   "metadata": {
    "collapsed": false
   },
   "outputs": [],
   "source": [
    "num_channels = 1\n",
    "num_labels = 10\n",
    "offset = 128\n",
    "\n",
    "def encode_one_hot(labels):\n",
    "    return (np.arange(num_labels) == labels[:,None]).astype(np.float32)\n",
    "\n",
    "def preprocess(dataset, shuffle=False):\n",
    "    if shuffle:\n",
    "        random.shuffle(dataset)  # Just in case it was somehow sorted\n",
    "    labels, images = zip(*dataset)\n",
    "    labels, images = np.array(labels, dtype=\"int\"), np.array(images, dtype=\"float32\")\n",
    "    images -= offset  # To be zero centred\n",
    "    \n",
    "    images = images.reshape((-1, image_width, image_height, num_channels))  # Add channel dimension\n",
    "\n",
    "    return labels, images\n",
    "    \n",
    "train_labels, train_images = preprocess(trainset, shuffle=True)\n",
    "valid_labels, valid_images = preprocess(validset)\n",
    "test_labels, test_images = preprocess(testset)\n",
    "\n",
    "train_labels_oh = encode_one_hot(train_labels)"
   ]
  },
  {
   "cell_type": "markdown",
   "metadata": {},
   "source": [
    "## Check dimensions, types etc.\n",
    "Just to make sure preprocessing is correct"
   ]
  },
  {
   "cell_type": "code",
   "execution_count": 7,
   "metadata": {
    "collapsed": false
   },
   "outputs": [
    {
     "name": "stdout",
     "output_type": "stream",
     "text": [
      "Checking shapes, dtypes, values\n",
      "\n",
      "train_labels_oh float32 (50000, 10)\n",
      "train_images float32 (50000, 28, 28, 1) -128.0 127.0\n"
     ]
    },
    {
     "data": {
      "image/png": "[encoded data removed]",
      "text/plain": [
       "<matplotlib.figure.Figure at 0x7f027ae66828>"
      ]
     },
     "metadata": {},
     "output_type": "display_data"
    },
    {
     "name": "stdout",
     "output_type": "stream",
     "text": [
      "Train labels\n",
      "[[ 0.  0.  0.  0.  0.  0.  0.  0.  1.  0.]\n",
      " [ 0.  0.  0.  1.  0.  0.  0.  0.  0.  0.]\n",
      " [ 0.  0.  0.  1.  0.  0.  0.  0.  0.  0.]\n",
      " [ 0.  0.  0.  0.  0.  1.  0.  0.  0.  0.]\n",
      " [ 0.  0.  0.  0.  1.  0.  0.  0.  0.  0.]]\n"
     ]
    },
    {
     "data": {
      "text/plain": [
       "<matplotlib.figure.Figure at 0x7f026ed69d30>"
      ]
     },
     "metadata": {},
     "output_type": "display_data"
    }
   ],
   "source": [
    "print(\"Checking shapes, dtypes, values\\n\")\n",
    "print(\"train_labels_oh\", train_labels_oh.dtype, train_labels_oh.shape)\n",
    "print(\"train_images\", train_images.dtype, train_images.shape, min(train_images[0, :, :].ravel()), max(train_images[0, :, :].ravel()))\n",
    "plot_images(train_images[0:5,:,:,0])\n",
    "print(\"Train labels\")\n",
    "print(train_labels_oh[0:5, :])"
   ]
  },
  {
   "cell_type": "markdown",
   "metadata": {},
   "source": [
    "# Training"
   ]
  },
  {
   "cell_type": "markdown",
   "metadata": {},
   "source": [
    "## Define computational graph\n",
    "Using simple architecture of convolutional layers connected with relus. Convolutional layers used dropout and 2 fully connected layers with softmax. As a loss function used cross entropy, optimizer Adam."
   ]
  },
  {
   "cell_type": "code",
   "execution_count": 15,
   "metadata": {
    "collapsed": false
   },
   "outputs": [],
   "source": [
    "batch_size = 128\n",
    "filter_size = 3\n",
    "nr_filters = 16\n",
    "num_hidden = 256\n",
    "nr_cnn_blocks = 6\n",
    "learning_rate = 0.001\n",
    "\n",
    "dtype = tf.float32\n",
    "tf.reset_default_graph() \n",
    "\n",
    "# Input data.\n",
    "tf_train_dataset = tf.placeholder(dtype, shape=(batch_size, image_width, image_height, num_channels))\n",
    "tf_train_labels = tf.placeholder(dtype, shape=(batch_size, num_labels))\n",
    "tf_valid_dataset = tf.constant(valid_images, dtype)\n",
    "tf_test_dataset = tf.constant(test_images, dtype)\n",
    "training = tf.placeholder(tf.bool, shape=None)\n",
    "\n",
    "# Variables.\n",
    "layer1in_weights = tf.Variable(tf.truncated_normal([5, 5, num_channels, nr_filters], stddev=0.1,  dtype=dtype), dtype=dtype)\n",
    "layer1in_biases = tf.Variable(tf.zeros([nr_filters],  dtype=dtype), dtype=dtype)\n",
    "\n",
    "layer1fc_weights = tf.Variable(tf.truncated_normal([image_width // 4 * image_height // 4 * nr_filters, num_hidden], stddev=0.1, dtype=dtype), dtype=dtype)\n",
    "layer1fc_biases = tf.Variable(tf.constant(1.0, shape=[num_hidden], dtype=dtype), dtype=dtype)\n",
    "layer2fc_weights = tf.Variable(tf.truncated_normal([num_hidden, num_labels], stddev=0.1, dtype=dtype), dtype=dtype)\n",
    "layer2fc_biases = tf.Variable(tf.constant(1.0, shape=[num_labels], dtype=dtype), dtype=dtype)\n",
    "\n",
    "# Model.\n",
    "def model(data, reuse=False):\n",
    "    data = tf.nn.conv2d(data, layer1in_weights, [1, 2, 2, 1], padding='SAME') + layer1in_biases\n",
    "    data = tf.nn.relu(data)\n",
    "    \n",
    "    for i_block in range(nr_cnn_blocks):\n",
    "        data = cnn_block(data, i_block, reuse)\n",
    "\n",
    "    data = tf.nn.max_pool(data, [1, 3, 3, 1],  [1, 2, 2, 1],  padding='SAME')\n",
    "    hidden = tf.layers.dropout(data, training=training)\n",
    "    \n",
    "    shape = hidden.get_shape().as_list()\n",
    "    reshape = tf.reshape(hidden, [shape[0], shape[1] * shape[2] * shape[3]])  # Unroll\n",
    "    embeddings = tf.nn.relu(tf.matmul(reshape, layer1fc_weights) + layer1fc_biases)\n",
    "    logits = tf.matmul(embeddings, layer2fc_weights) + layer2fc_biases \n",
    "    return logits, embeddings\n",
    "\n",
    "\n",
    "def cnn_block(input_data, i_block, reuse):\n",
    "    with tf.variable_scope(\"scope\", reuse=reuse):\n",
    "        layer1_weights = tf.get_variable(\n",
    "            \"layer{}_w\".format(i_block), \n",
    "            initializer=tf.truncated_normal([filter_size, filter_size, nr_filters, nr_filters], stddev=0.1, dtype=dtype),\n",
    "            dtype=dtype)\n",
    "        layer1_biases = tf.get_variable(\"layer{}_b\".format(i_block), initializer=tf.zeros([nr_filters], dtype=dtype), dtype=dtype)\n",
    "\n",
    "    data = tf.nn.conv2d(input_data, layer1_weights, [1, 1, 1, 1], padding='SAME') + layer1_biases\n",
    "    data = tf.nn.relu(data)\n",
    "#     data = tf.layers.dropout(data, training=training)\n",
    "    \n",
    "    return data\n",
    "\n",
    "# Training computation.\n",
    "logits, embeddings = model(tf_train_dataset)\n",
    "loss = tf.reduce_mean(tf.nn.softmax_cross_entropy_with_logits(labels=tf_train_labels, logits=logits))\n",
    "\n",
    "# Optimizer.\n",
    "global_step = tf.Variable(0, trainable=False)\n",
    "# learning_rate = tf.train.exponential_decay(learning_rate, global_step, 1000, 0.7)\n",
    "optimizer = tf.train.AdamOptimizer(learning_rate).minimize(loss, global_step=global_step)\n",
    "\n",
    "# Predictions for the training, validation, and test data.\n",
    "train_prediction = tf.nn.softmax(logits)\n",
    "valid_prediction = tf.nn.softmax(model(tf_valid_dataset, reuse=True)[0])\n",
    "test_logits, test_embeddings = model(tf_test_dataset, reuse=True)\n",
    "test_prediction = tf.nn.softmax(test_logits)\n",
    "\n",
    "# Add ops to save and restore all the variables.\n",
    "saver = tf.train.Saver()"
   ]
  },
  {
   "cell_type": "markdown",
   "metadata": {},
   "source": [
    "## Run computational graph\n",
    "Trained using GPU, on CPU training might take a while."
   ]
  },
  {
   "cell_type": "code",
   "execution_count": 16,
   "metadata": {
    "collapsed": false
   },
   "outputs": [
    {
     "name": "stdout",
     "output_type": "stream",
     "text": [
      "Step: 0000, train_batch_loss: 53.796, train_batch_err: 95.31%, valid_err: 88.47%*\n",
      "Step: 0100, train_batch_loss: 0.811, train_batch_err: 27.34%, valid_err: 19.51%*\n",
      "Step: 0200, train_batch_loss: 0.257, train_batch_err: 7.81%, valid_err: 8.03%*\n",
      "Step: 0300, train_batch_loss: 0.290, train_batch_err: 8.59%, valid_err: 6.25%*\n",
      "Step: 0400, train_batch_loss: 0.208, train_batch_err: 7.03%, valid_err: 4.41%*\n",
      "Step: 0500, train_batch_loss: 0.176, train_batch_err: 7.03%, valid_err: 3.70%*\n",
      "Step: 0600, train_batch_loss: 0.141, train_batch_err: 3.12%, valid_err: 3.63%*\n",
      "Step: 0700, train_batch_loss: 0.125, train_batch_err: 3.91%, valid_err: 3.16%*\n",
      "Step: 0800, train_batch_loss: 0.149, train_batch_err: 4.69%, valid_err: 2.87%*\n",
      "Step: 0900, train_batch_loss: 0.105, train_batch_err: 2.34%, valid_err: 2.75%*\n",
      "Step: 1000, train_batch_loss: 0.079, train_batch_err: 2.34%, valid_err: 2.41%*\n",
      "Step: 1100, train_batch_loss: 0.092, train_batch_err: 3.12%, valid_err: 3.25%\n",
      "Step: 1200, train_batch_loss: 0.149, train_batch_err: 4.69%, valid_err: 2.25%*\n",
      "Step: 1300, train_batch_loss: 0.110, train_batch_err: 2.34%, valid_err: 2.94%\n",
      "Step: 1400, train_batch_loss: 0.077, train_batch_err: 2.34%, valid_err: 2.05%*\n",
      "Step: 1500, train_batch_loss: 0.119, train_batch_err: 3.12%, valid_err: 2.35%\n",
      "Step: 1600, train_batch_loss: 0.094, train_batch_err: 3.12%, valid_err: 2.26%\n",
      "Step: 1700, train_batch_loss: 0.286, train_batch_err: 8.59%, valid_err: 2.17%\n",
      "Step: 1800, train_batch_loss: 0.120, train_batch_err: 4.69%, valid_err: 2.05%\n",
      "Step: 1900, train_batch_loss: 0.144, train_batch_err: 3.91%, valid_err: 1.95%*\n",
      "Step: 2000, train_batch_loss: 0.101, train_batch_err: 3.12%, valid_err: 2.00%\n",
      "Step: 2100, train_batch_loss: 0.055, train_batch_err: 3.12%, valid_err: 1.86%*\n",
      "Step: 2200, train_batch_loss: 0.029, train_batch_err: 0.00%, valid_err: 1.81%*\n",
      "Step: 2300, train_batch_loss: 0.049, train_batch_err: 1.56%, valid_err: 2.01%\n",
      "Step: 2400, train_batch_loss: 0.049, train_batch_err: 1.56%, valid_err: 1.78%*\n",
      "Step: 2500, train_batch_loss: 0.061, train_batch_err: 3.12%, valid_err: 1.90%\n",
      "Step: 2600, train_batch_loss: 0.082, train_batch_err: 2.34%, valid_err: 1.66%*\n",
      "Step: 2700, train_batch_loss: 0.016, train_batch_err: 0.00%, valid_err: 1.78%\n",
      "Step: 2800, train_batch_loss: 0.054, train_batch_err: 2.34%, valid_err: 1.64%*\n",
      "Step: 2900, train_batch_loss: 0.029, train_batch_err: 0.78%, valid_err: 1.40%*\n",
      "Step: 3000, train_batch_loss: 0.076, train_batch_err: 1.56%, valid_err: 1.61%\n",
      "Step: 3100, train_batch_loss: 0.082, train_batch_err: 0.78%, valid_err: 1.65%\n",
      "Step: 3200, train_batch_loss: 0.028, train_batch_err: 0.78%, valid_err: 1.44%\n",
      "Step: 3300, train_batch_loss: 0.016, train_batch_err: 0.00%, valid_err: 1.46%\n",
      "Step: 3400, train_batch_loss: 0.036, train_batch_err: 2.34%, valid_err: 1.50%\n",
      "Step: 3500, train_batch_loss: 0.004, train_batch_err: 0.00%, valid_err: 1.57%\n",
      "Step: 3600, train_batch_loss: 0.072, train_batch_err: 2.34%, valid_err: 1.41%\n",
      "Step: 3700, train_batch_loss: 0.062, train_batch_err: 1.56%, valid_err: 1.66%\n",
      "Step: 3800, train_batch_loss: 0.026, train_batch_err: 0.78%, valid_err: 1.46%\n",
      "Step: 3900, train_batch_loss: 0.046, train_batch_err: 1.56%, valid_err: 1.60%\n",
      "Step: 4000, train_batch_loss: 0.007, train_batch_err: 0.00%, valid_err: 1.40%\n",
      "Step: 4100, train_batch_loss: 0.027, train_batch_err: 0.78%, valid_err: 1.22%*\n",
      "Step: 4200, train_batch_loss: 0.016, train_batch_err: 0.00%, valid_err: 1.50%\n",
      "Step: 4300, train_batch_loss: 0.046, train_batch_err: 1.56%, valid_err: 1.36%\n",
      "Step: 4400, train_batch_loss: 0.039, train_batch_err: 0.78%, valid_err: 1.32%\n",
      "Step: 4500, train_batch_loss: 0.024, train_batch_err: 0.78%, valid_err: 1.83%\n",
      "Step: 4600, train_batch_loss: 0.114, train_batch_err: 3.12%, valid_err: 1.74%\n",
      "Step: 4700, train_batch_loss: 0.085, train_batch_err: 3.91%, valid_err: 1.38%\n",
      "Step: 4800, train_batch_loss: 0.019, train_batch_err: 0.78%, valid_err: 1.23%\n",
      "Step: 4900, train_batch_loss: 0.046, train_batch_err: 2.34%, valid_err: 1.16%*\n",
      "Step: 5000, train_batch_loss: 0.129, train_batch_err: 3.91%, valid_err: 1.77%\n",
      "Step: 5100, train_batch_loss: 0.016, train_batch_err: 0.78%, valid_err: 1.06%*\n",
      "Step: 5200, train_batch_loss: 0.024, train_batch_err: 0.78%, valid_err: 1.45%\n",
      "Step: 5300, train_batch_loss: 0.063, train_batch_err: 2.34%, valid_err: 1.20%\n",
      "Step: 5400, train_batch_loss: 0.015, train_batch_err: 0.00%, valid_err: 1.14%\n",
      "Step: 5500, train_batch_loss: 0.035, train_batch_err: 1.56%, valid_err: 1.18%\n",
      "Step: 5600, train_batch_loss: 0.011, train_batch_err: 0.00%, valid_err: 1.18%\n",
      "Step: 5700, train_batch_loss: 0.018, train_batch_err: 0.78%, valid_err: 1.20%\n",
      "Step: 5800, train_batch_loss: 0.021, train_batch_err: 0.78%, valid_err: 1.36%\n",
      "Step: 5900, train_batch_loss: 0.086, train_batch_err: 3.12%, valid_err: 1.20%\n",
      "Step: 6000, train_batch_loss: 0.042, train_batch_err: 1.56%, valid_err: 1.06%\n",
      "Step: 6100, train_batch_loss: 0.073, train_batch_err: 3.12%, valid_err: 1.26%\n",
      "Step: 6200, train_batch_loss: 0.055, train_batch_err: 3.12%, valid_err: 1.30%\n",
      "Step: 6300, train_batch_loss: 0.015, train_batch_err: 0.00%, valid_err: 1.14%\n",
      "Step: 6400, train_batch_loss: 0.024, train_batch_err: 0.78%, valid_err: 1.04%*\n",
      "Step: 6500, train_batch_loss: 0.018, train_batch_err: 0.78%, valid_err: 1.00%*\n",
      "Step: 6600, train_batch_loss: 0.098, train_batch_err: 2.34%, valid_err: 1.14%\n",
      "Step: 6700, train_batch_loss: 0.041, train_batch_err: 1.56%, valid_err: 1.35%\n",
      "Step: 6800, train_batch_loss: 0.031, train_batch_err: 0.78%, valid_err: 1.31%\n",
      "Step: 6900, train_batch_loss: 0.019, train_batch_err: 0.78%, valid_err: 1.22%\n",
      "Step: 7000, train_batch_loss: 0.093, train_batch_err: 3.12%, valid_err: 1.17%\n",
      "Step: 7100, train_batch_loss: 0.009, train_batch_err: 0.00%, valid_err: 1.31%\n",
      "Step: 7200, train_batch_loss: 0.088, train_batch_err: 3.91%, valid_err: 1.45%\n",
      "Step: 7300, train_batch_loss: 0.083, train_batch_err: 3.12%, valid_err: 1.05%\n",
      "Step: 7400, train_batch_loss: 0.040, train_batch_err: 0.78%, valid_err: 1.31%\n",
      "Step: 7500, train_batch_loss: 0.005, train_batch_err: 0.00%, valid_err: 1.51%\n",
      "Step: 7600, train_batch_loss: 0.099, train_batch_err: 2.34%, valid_err: 1.34%\n",
      "Step: 7700, train_batch_loss: 0.050, train_batch_err: 2.34%, valid_err: 1.19%\n",
      "Step: 7800, train_batch_loss: 0.044, train_batch_err: 0.78%, valid_err: 1.12%\n",
      "Step: 7900, train_batch_loss: 0.027, train_batch_err: 0.78%, valid_err: 1.33%\n",
      "Step: 8000, train_batch_loss: 0.181, train_batch_err: 3.12%, valid_err: 1.18%\n",
      "Step: 8100, train_batch_loss: 0.026, train_batch_err: 1.56%, valid_err: 1.18%\n",
      "Step: 8200, train_batch_loss: 0.037, train_batch_err: 0.78%, valid_err: 1.12%\n",
      "Step: 8300, train_batch_loss: 0.003, train_batch_err: 0.00%, valid_err: 1.13%\n",
      "Step: 8400, train_batch_loss: 0.014, train_batch_err: 0.00%, valid_err: 1.09%\n",
      "Step: 8500, train_batch_loss: 0.089, train_batch_err: 2.34%, valid_err: 1.08%\n",
      "Step: 8600, train_batch_loss: 0.045, train_batch_err: 2.34%, valid_err: 1.10%\n",
      "Step: 8700, train_batch_loss: 0.003, train_batch_err: 0.00%, valid_err: 1.16%\n",
      "Step: 8800, train_batch_loss: 0.003, train_batch_err: 0.00%, valid_err: 1.14%\n",
      "Step: 8900, train_batch_loss: 0.028, train_batch_err: 1.56%, valid_err: 1.17%\n",
      "Step: 9000, train_batch_loss: 0.049, train_batch_err: 2.34%, valid_err: 1.08%\n",
      "Step: 9100, train_batch_loss: 0.005, train_batch_err: 0.00%, valid_err: 0.97%*\n",
      "Step: 9200, train_batch_loss: 0.020, train_batch_err: 0.78%, valid_err: 1.05%\n",
      "Step: 9300, train_batch_loss: 0.034, train_batch_err: 0.78%, valid_err: 1.16%\n",
      "Step: 9400, train_batch_loss: 0.032, train_batch_err: 2.34%, valid_err: 1.30%\n",
      "Step: 9500, train_batch_loss: 0.005, train_batch_err: 0.00%, valid_err: 1.11%\n",
      "Step: 9600, train_batch_loss: 0.057, train_batch_err: 2.34%, valid_err: 1.12%\n",
      "Step: 9700, train_batch_loss: 0.023, train_batch_err: 0.78%, valid_err: 1.09%\n",
      "Step: 9800, train_batch_loss: 0.032, train_batch_err: 0.78%, valid_err: 1.19%\n",
      "Step: 9900, train_batch_loss: 0.024, train_batch_err: 1.56%, valid_err: 1.02%\n",
      "Step: 10000, train_batch_loss: 0.009, train_batch_err: 0.00%, valid_err: 1.00%\n"
     ]
    },
    {
     "data": {
      "text/markdown": [
       "** Valid err rate 0.97% **"
      ],
      "text/plain": [
       "<IPython.core.display.Markdown object>"
      ]
     },
     "metadata": {},
     "output_type": "display_data"
    }
   ],
   "source": [
    "num_steps = 10001\n",
    "model_path = \"models/model.ckpt\"\n",
    "\n",
    "config = tf.ConfigProto(log_device_placement=True)\n",
    "config.gpu_options.allow_growth=True\n",
    "with tf.Session(config=config) as sess:\n",
    "    tf.global_variables_initializer().run(session=sess)\n",
    "\n",
    "    min_valid_err = 100\n",
    "    for step in range(num_steps):\n",
    "        offset = (step * batch_size) % (train_labels_oh.shape[0] - batch_size)\n",
    "        batch_data = train_images[offset:(offset + batch_size), :, :, :]\n",
    "        batch_labels_oh = train_labels_oh[offset:(offset + batch_size), :]\n",
    "        feed_dict = {tf_train_dataset : batch_data, tf_train_labels : batch_labels_oh, training:True}\n",
    "        _, l, p_train = sess.run([optimizer, loss, train_prediction], feed_dict=feed_dict)\n",
    "\n",
    "        # Printing stats, storing model if good\n",
    "        if (step % 100 == 0):\n",
    "            p_valid = valid_prediction.eval(session=sess, feed_dict={training: False})\n",
    "\n",
    "            train_batch_err =  error_rate(get_predictions(p_train), get_predictions(batch_labels_oh))\n",
    "            valid_err =  error_rate(get_predictions(p_valid), valid_labels)\n",
    "\n",
    "            star = \"\"\n",
    "            if  valid_err < min_valid_err:\n",
    "                star = \"*\"\n",
    "                min_valid_err = valid_err\n",
    "                saver.save(sess, model_path)\n",
    "\n",
    "            print(\"Step: {:04d}, train_batch_loss: {:.3f}, train_batch_err: {:.2f}%, valid_err: {:.2f}%{}\"\n",
    "                  .format(step, l, train_batch_err, valid_err, star))\n",
    "\n",
    "\n",
    "    printmd(\"** Valid err rate {}% **\".format(min_valid_err))     \n"
   ]
  },
  {
   "cell_type": "markdown",
   "metadata": {},
   "source": [
    "# Evaluation"
   ]
  },
  {
   "cell_type": "code",
   "execution_count": 22,
   "metadata": {
    "collapsed": false
   },
   "outputs": [
    {
     "name": "stdout",
     "output_type": "stream",
     "text": [
      "INFO:tensorflow:Restoring parameters from models/model.ckpt\n"
     ]
    },
    {
     "data": {
      "text/markdown": [
       "** Test err rate 0.85% **"
      ],
      "text/plain": [
       "<IPython.core.display.Markdown object>"
      ]
     },
     "metadata": {},
     "output_type": "display_data"
    }
   ],
   "source": [
    "with tf.Session() as sess:\n",
    "    saver.restore(sess, model_path)\n",
    "    p_test, embedding_val = sess.run([test_prediction, test_embeddings], feed_dict={training: False})\n",
    "#     p_test = test_prediction.eval(session=sess, )\n",
    "\n",
    "test_predictions = get_predictions(p_test)\n",
    "test_err =  error_rate(test_predictions, test_labels)\n",
    "printmd(\"** Test err rate {}% **\".format(test_err)) "
   ]
  },
  {
   "cell_type": "markdown",
   "metadata": {},
   "source": [
    "## Draw incorrect predictions\n",
    "Normally usefull for tweaking training data"
   ]
  },
  {
   "cell_type": "code",
   "execution_count": 23,
   "metadata": {
    "collapsed": false
   },
   "outputs": [
    {
     "name": "stdout",
     "output_type": "stream",
     "text": [
      "Predictions: [8 2 3 4 0 5 7 4 6 3 1 9 5 9 0]\n",
      "True labels: [5 4 5 9 6 3 2 6 2 5 7 8 3 8 6]\n"
     ]
    },
    {
     "data": {
      "image/png": "[encoded data removed]",
      "text/plain": [
       "<matplotlib.figure.Figure at 0x7f025dea5588>"
      ]
     },
     "metadata": {},
     "output_type": "display_data"
    },
    {
     "data": {
      "text/plain": [
       "<matplotlib.figure.Figure at 0x7f0242c93c88>"
      ]
     },
     "metadata": {},
     "output_type": "display_data"
    }
   ],
   "source": [
    "incorrect_predictions = get_incorrect_predictions(test_predictions, test_labels)\n",
    "\n",
    "nr_incorrect = 15\n",
    "print(\"Predictions:\", test_predictions[incorrect_predictions[:nr_incorrect]])\n",
    "print(\"True labels:\", test_labels[incorrect_predictions[:nr_incorrect]])\n",
    "plot_images([test_images[i, :, :, 0] + offset for i in incorrect_predictions[:nr_incorrect]])"
   ]
  },
  {
   "cell_type": "markdown",
   "metadata": {},
   "source": [
    "## Print confusion matrix"
   ]
  },
  {
   "cell_type": "code",
   "execution_count": 24,
   "metadata": {
    "collapsed": false
   },
   "outputs": [
    {
     "name": "stdout",
     "output_type": "stream",
     "text": [
      "True                     Predicted\n",
      "[[ 979    0    0    0    0    0    0    1    0    0]\n",
      " [   0 1133    1    0    0    0    1    0    0    0]\n",
      " [   1    0 1026    1    0    0    1    1    2    0]\n",
      " [   0    0    0 1006    0    3    0    1    0    0]\n",
      " [   0    0    1    0  977    0    1    0    1    2]\n",
      " [   1    0    0    8    0  881    1    0    1    0]\n",
      " [   5    4    0    0    2    2  943    0    2    0]\n",
      " [   0    5    4    0    0    0    0 1016    1    2]\n",
      " [   0    0    1    0    0    1    0    0  969    3]\n",
      " [   0    0    0    1   12    3    0    5    3  985]]\n"
     ]
    }
   ],
   "source": [
    "print(\"True\", \" \"*20 + \"Predicted\")\n",
    "print(metrics.confusion_matrix(test_labels, test_predictions))"
   ]
  },
  {
   "cell_type": "markdown",
   "metadata": {
    "collapsed": true
   },
   "source": [
    "## Plot embeddings"
   ]
  },
  {
   "cell_type": "code",
   "execution_count": 25,
   "metadata": {
    "collapsed": false
   },
   "outputs": [],
   "source": [
    "limit = 1000\n",
    "embedding2d = TSNE(n_components=2).fit_transform(embedding_val[:limit, :])\n",
    "test_labels_lim = test_labels[:limit]"
   ]
  },
  {
   "cell_type": "code",
   "execution_count": 27,
   "metadata": {
    "collapsed": false
   },
   "outputs": [
    {
     "data": {
      "text/plain": [
       "<matplotlib.text.Text at 0x7f0242cf9630>"
      ]
     },
     "execution_count": 27,
     "metadata": {},
     "output_type": "execute_result"
    },
    {
     "data": {
      "image/png": "[encoded data removed]",
      "text/plain": [
       "<matplotlib.figure.Figure at 0x7f0242da5710>"
      ]
     },
     "metadata": {},
     "output_type": "display_data"
    }
   ],
   "source": [
    "formats = [\"xy\", \"xm\", \"xc\", \"xb\", \"xr\", \"oy\", \"om\", \"oc\", \"ob\", \"or\"]\n",
    "for label in label_values:\n",
    "    plt.plot(embedding2d[test_labels_lim==label, 0], embedding2d[test_labels_lim==label, 1], formats[label])\n",
    "plt.legend(label_values, loc=1)\n",
    "plt.title(\"Test example embeddings \\n(used t-SNE for dimensionality reduction to 2D)\")"
   ]
  },
  {
   "cell_type": "code",
   "execution_count": null,
   "metadata": {
    "collapsed": true
   },
   "outputs": [],
   "source": []
  },
  {
   "cell_type": "code",
   "execution_count": null,
   "metadata": {
    "collapsed": true
   },
   "outputs": [],
   "source": []
  }
 ],
 "metadata": {
  "kernelspec": {
   "display_name": "Python 3",
   "language": "python",
   "name": "python3"
  },
  "language_info": {
   "codemirror_mode": {
    "name": "ipython",
    "version": 3
   },
   "file_extension": ".py",
   "mimetype": "text/x-python",
   "name": "python",
   "nbconvert_exporter": "python",
   "pygments_lexer": "ipython3",
   "version": "3.5.2"
  }
 },
 "nbformat": 4,
 "nbformat_minor": 1
}
